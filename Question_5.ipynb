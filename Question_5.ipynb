{
  "nbformat": 4,
  "nbformat_minor": 0,
  "metadata": {
    "colab": {
      "name": "Question 5.ipynb",
      "provenance": [],
      "collapsed_sections": []
    },
    "kernelspec": {
      "name": "python3",
      "display_name": "Python 3"
    }
  },
  "cells": [
    {
      "cell_type": "markdown",
      "metadata": {
        "id": "zlnHJ2R4U_EL",
        "colab_type": "text"
      },
      "source": [
        "Strings and explore default methods."
      ]
    },
    {
      "cell_type": "markdown",
      "metadata": {
        "id": "hUzluzqSXObH",
        "colab_type": "text"
      },
      "source": [
        "1. How to Create Strings in Python?"
      ]
    },
    {
      "cell_type": "code",
      "metadata": {
        "id": "YlOa5aTlXQa2",
        "colab_type": "code",
        "colab": {
          "base_uri": "https://localhost:8080/",
          "height": 67
        },
        "outputId": "510ec786-b299-4b97-e29f-e835259749da"
      },
      "source": [
        "# Python string examples - all assignments are identical.\n",
        "String_var = 'Python'\n",
        "String_var = \"Python\"\n",
        "String_var = \"\"\"Python\"\"\"\n",
        "\n",
        "# with Triple quotes Strings can extend to multiple lines\n",
        "String_var = \"\"\" This document will help you to\n",
        "explore all the concepts\n",
        "of Python Strings!!! \"\"\"\n",
        "\n",
        "# Replace \"document\" with \"tutorial\" and store in another variable\n",
        "substr_var = String_var.replace(\"document\", \"tutorial\")\n",
        "print (substr_var)"
      ],
      "execution_count": 5,
      "outputs": [
        {
          "output_type": "stream",
          "text": [
            " This tutorial will help you to\n",
            "explore all the concepts\n",
            "of Python Strings!!! \n"
          ],
          "name": "stdout"
        }
      ]
    },
    {
      "cell_type": "markdown",
      "metadata": {
        "id": "pHD84B4sXY_k",
        "colab_type": "text"
      },
      "source": [
        "Index and Slice Strings in Python"
      ]
    },
    {
      "cell_type": "code",
      "metadata": {
        "id": "ZKZUjaAgXdi9",
        "colab_type": "code",
        "colab": {
          "base_uri": "https://localhost:8080/",
          "height": 67
        },
        "outputId": "b0f68bcc-f9fa-4e1a-e8b8-3c32b6199483"
      },
      "source": [
        "sample_str = 'Python String'\n",
        "\n",
        "print (sample_str[0])       # return 1st character\n",
        "# output: P\n",
        "\n",
        "print (sample_str[-1])      # return last character\n",
        "# output: g\n",
        "\n",
        "print (sample_str[-2])      # return last second character\n",
        "# output: n"
      ],
      "execution_count": 6,
      "outputs": [
        {
          "output_type": "stream",
          "text": [
            "P\n",
            "g\n",
            "n\n"
          ],
          "name": "stdout"
        }
      ]
    },
    {
      "cell_type": "markdown",
      "metadata": {
        "id": "YT29SVVeXgfE",
        "colab_type": "text"
      },
      "source": [
        "Slice a String in Python"
      ]
    },
    {
      "cell_type": "code",
      "metadata": {
        "id": "tUDZPqniXji3",
        "colab_type": "code",
        "colab": {}
      },
      "source": [
        "sample_str = 'Python String'\n",
        "print (sample_str[3:5])\t    #return a range of character\n",
        "# ho\n",
        "print (sample_str[7:])      # return all characters from index 7\n",
        "# String\n",
        "print (sample_str[:6])      # return all characters before index 6\n",
        "# Python\n",
        "print (sample_str[7:-4])\n",
        "# St"
      ],
      "execution_count": null,
      "outputs": []
    }
  ]
}