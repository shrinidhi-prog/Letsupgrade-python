{
  "nbformat": 4,
  "nbformat_minor": 0,
  "metadata": {
    "colab": {
      "name": "Question 4.ipynb",
      "provenance": [],
      "collapsed_sections": []
    },
    "kernelspec": {
      "name": "python3",
      "display_name": "Python 3"
    }
  },
  "cells": [
    {
      "cell_type": "markdown",
      "metadata": {
        "id": "zlnHJ2R4U_EL",
        "colab_type": "text"
      },
      "source": [
        "Tuple and explore default methods"
      ]
    },
    {
      "cell_type": "code",
      "metadata": {
        "id": "t474x1kyVDhn",
        "colab_type": "code",
        "colab": {
          "base_uri": "https://localhost:8080/",
          "height": 50
        },
        "outputId": "c92b4adb-a622-430f-f594-4c45e3aa2ed1"
      },
      "source": [
        "# Python3 program demonstrating \n",
        "# the use of tuple() function \n",
        "tup = (\"shrinidhireddy50\",\"@\",\"gmail.com\")\n",
        "print(tup)\n",
        "tup.count(\"@\")\n",
        "tup.index(\"gmail.com\")\n"
      ],
      "execution_count": 3,
      "outputs": [
        {
          "output_type": "stream",
          "text": [
            "('shrinidhireddy50', '@', 'gmail.com')\n"
          ],
          "name": "stdout"
        },
        {
          "output_type": "execute_result",
          "data": {
            "text/plain": [
              "2"
            ]
          },
          "metadata": {
            "tags": []
          },
          "execution_count": 3
        }
      ]
    }
  ]
}