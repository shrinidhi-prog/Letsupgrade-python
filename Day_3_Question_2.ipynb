{
  "nbformat": 4,
  "nbformat_minor": 0,
  "metadata": {
    "colab": {
      "name": "Day 3_Question 2.ipynb",
      "provenance": [],
      "collapsed_sections": []
    },
    "kernelspec": {
      "name": "python3",
      "display_name": "Python 3"
    }
  },
  "cells": [
    {
      "cell_type": "code",
      "metadata": {
        "id": "dymAQlFPh-2d",
        "colab_type": "code",
        "colab": {}
      },
      "source": [
        "# Python program to print all \n",
        "# prime number in an interval \n",
        "\n",
        "start = 1\n",
        "end = 200\n",
        "\n",
        "for i in range(start,end): \n",
        "\tfor j in range(2,i): \n",
        "\t\tif(i % j==0): \n",
        "\t\t\tbreak\n",
        "\telse: \n",
        "\t\tprint(i) "
      ],
      "execution_count": null,
      "outputs": []
    }
  ]
}