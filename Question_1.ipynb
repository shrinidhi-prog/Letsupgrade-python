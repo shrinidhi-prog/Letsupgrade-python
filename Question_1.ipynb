{
  "nbformat": 4,
  "nbformat_minor": 0,
  "metadata": {
    "colab": {
      "name": "Question 1.ipynb",
      "provenance": [],
      "collapsed_sections": []
    },
    "kernelspec": {
      "name": "python3",
      "display_name": "Python 3"
    }
  },
  "cells": [
    {
      "cell_type": "markdown",
      "metadata": {
        "id": "S366_j_pMari",
        "colab_type": "text"
      },
      "source": [
        "List and its default functions in python"
      ]
    },
    {
      "cell_type": "code",
      "metadata": {
        "id": "REM3ECB5KlP0",
        "colab_type": "code",
        "colab": {
          "base_uri": "https://localhost:8080/",
          "height": 34
        },
        "outputId": "0386f98e-3f79-4305-91a4-f55d914af45c"
      },
      "source": [
        "List = ['Electronics', 'Computer science', 1998] \n",
        "List.append(2020) \n",
        "print(List)"
      ],
      "execution_count": 2,
      "outputs": [
        {
          "output_type": "stream",
          "text": [
            "['Electronics', 'Computer science', 1998, 2020]\n"
          ],
          "name": "stdout"
        }
      ]
    },
    {
      "cell_type": "code",
      "metadata": {
        "id": "QKViE-FHM-FQ",
        "colab_type": "code",
        "colab": {
          "base_uri": "https://localhost:8080/",
          "height": 34
        },
        "outputId": "a8b7bae7-a6d9-48ab-bc26-9aaef891eb60"
      },
      "source": [
        "List = ['Electronics', 'Computer science', 1998] \n",
        "# Insert at index 2 value 10087 \n",
        "List.insert(2,2021)      \n",
        "print(List) "
      ],
      "execution_count": 3,
      "outputs": [
        {
          "output_type": "stream",
          "text": [
            "['Electronics', 'Computer science', 2021, 1998]\n"
          ],
          "name": "stdout"
        }
      ]
    },
    {
      "cell_type": "code",
      "metadata": {
        "id": "l21t3atzNTNe",
        "colab_type": "code",
        "colab": {
          "base_uri": "https://localhost:8080/",
          "height": 50
        },
        "outputId": "1ff47d26-58c4-445a-a311-4f458f9a96e5"
      },
      "source": [
        "List1 = [1, 2, 3] \n",
        "List2 = [4,5,6,7,8] \n",
        "  \n",
        "# Add List2 to List1 \n",
        "List1.extend(List2)         \n",
        "print(List1) \n",
        "  \n",
        "# Add List1 to List2 now \n",
        "List2.extend(List1)  \n",
        "print(List2) "
      ],
      "execution_count": 5,
      "outputs": [
        {
          "output_type": "stream",
          "text": [
            "[1, 2, 3, 4, 5, 6, 7, 8]\n",
            "[4, 5, 6, 7, 8, 1, 2, 3, 4, 5, 6, 7, 8]\n"
          ],
          "name": "stdout"
        }
      ]
    },
    {
      "cell_type": "code",
      "metadata": {
        "id": "igUKZQDvNd-P",
        "colab_type": "code",
        "colab": {
          "base_uri": "https://localhost:8080/",
          "height": 34
        },
        "outputId": "5dc810ac-428a-4948-82e4-1f278d681159"
      },
      "source": [
        "List = [1, 2, 3, 4, 5] \n",
        "print(sum(List)) "
      ],
      "execution_count": 6,
      "outputs": [
        {
          "output_type": "stream",
          "text": [
            "15\n"
          ],
          "name": "stdout"
        }
      ]
    },
    {
      "cell_type": "code",
      "metadata": {
        "id": "1LfR69UFOA90",
        "colab_type": "code",
        "colab": {
          "base_uri": "https://localhost:8080/",
          "height": 34
        },
        "outputId": "9d001d65-4256-4581-ad64-0066c1ad9f5a"
      },
      "source": [
        "List = [1, 2, 3, 1, 2, 1, 2, 3, 2, 1] \n",
        "print(len(List))"
      ],
      "execution_count": 7,
      "outputs": [
        {
          "output_type": "stream",
          "text": [
            "10\n"
          ],
          "name": "stdout"
        }
      ]
    },
    {
      "cell_type": "code",
      "metadata": {
        "id": "l-GcutHAOGLf",
        "colab_type": "code",
        "colab": {
          "base_uri": "https://localhost:8080/",
          "height": 34
        },
        "outputId": "0a448d04-34ed-4374-98e8-eca8143036a8"
      },
      "source": [
        "List = [1, 2, 3, 1, 2, 1, 2, 3, 2, 1] \n",
        "print(List.index(2))"
      ],
      "execution_count": 10,
      "outputs": [
        {
          "output_type": "stream",
          "text": [
            "1\n"
          ],
          "name": "stdout"
        }
      ]
    },
    {
      "cell_type": "code",
      "metadata": {
        "id": "JT45xxCVOTGX",
        "colab_type": "code",
        "colab": {
          "base_uri": "https://localhost:8080/",
          "height": 34
        },
        "outputId": "e68c63ef-726a-4bd8-c994-7a7557f33520"
      },
      "source": [
        "List = [2.3, 4.445, 3, 5.33, 1.054, 2.5] \n",
        "print(min(List))"
      ],
      "execution_count": 11,
      "outputs": [
        {
          "output_type": "stream",
          "text": [
            "1.054\n"
          ],
          "name": "stdout"
        }
      ]
    },
    {
      "cell_type": "code",
      "metadata": {
        "id": "4o1rtIQIOV8l",
        "colab_type": "code",
        "colab": {
          "base_uri": "https://localhost:8080/",
          "height": 34
        },
        "outputId": "3fc4442d-bfc3-4f57-8833-dd08ca611594"
      },
      "source": [
        "List = [2.3, 4.445, 3, 5.33, 1.054, 2.5] \n",
        "print(max(List)) "
      ],
      "execution_count": 13,
      "outputs": [
        {
          "output_type": "stream",
          "text": [
            "5.33\n"
          ],
          "name": "stdout"
        }
      ]
    },
    {
      "cell_type": "code",
      "metadata": {
        "id": "Sd1S0lKtOhN6",
        "colab_type": "code",
        "colab": {
          "base_uri": "https://localhost:8080/",
          "height": 34
        },
        "outputId": "27f903d2-0f35-4935-bf86-fa373f408099"
      },
      "source": [
        "List = [2.3, 4.445, 3, 5.33, 1.054, 2.5] \n",
        "  \n",
        "List.sort(reverse=True)  \n",
        "  \n",
        "print(List) "
      ],
      "execution_count": 14,
      "outputs": [
        {
          "output_type": "stream",
          "text": [
            "[5.33, 4.445, 3, 2.5, 2.3, 1.054]\n"
          ],
          "name": "stdout"
        }
      ]
    },
    {
      "cell_type": "code",
      "metadata": {
        "id": "b2ZS5CTCOnER",
        "colab_type": "code",
        "colab": {
          "base_uri": "https://localhost:8080/",
          "height": 34
        },
        "outputId": "e1136783-94d8-476a-ddb0-0826f5ff1b6d"
      },
      "source": [
        "List = [2.3, 4.445, 3, 5.33, 1.054, 2.5] \n",
        "print(List.pop())"
      ],
      "execution_count": 15,
      "outputs": [
        {
          "output_type": "stream",
          "text": [
            "2.5\n"
          ],
          "name": "stdout"
        }
      ]
    },
    {
      "cell_type": "code",
      "metadata": {
        "id": "Hb6dAam8OqXO",
        "colab_type": "code",
        "colab": {
          "base_uri": "https://localhost:8080/",
          "height": 34
        },
        "outputId": "a36f6b6a-bf6a-4f73-b361-6197c7833c76"
      },
      "source": [
        "List = [2.3, 4.445, 3, 5.33, 1.054, 2.5] \n",
        "del List[0] \n",
        "print(List) "
      ],
      "execution_count": 16,
      "outputs": [
        {
          "output_type": "stream",
          "text": [
            "[4.445, 3, 5.33, 1.054, 2.5]\n"
          ],
          "name": "stdout"
        }
      ]
    },
    {
      "cell_type": "code",
      "metadata": {
        "id": "ENXUNwuKOxtO",
        "colab_type": "code",
        "colab": {
          "base_uri": "https://localhost:8080/",
          "height": 34
        },
        "outputId": "8f35866a-6e37-48fd-ffaf-effbe755e156"
      },
      "source": [
        "List = [2.3, 4.445, 3, 5.33, 1.054, 2.5] \n",
        "List.remove(3) \n",
        "print(List)"
      ],
      "execution_count": 17,
      "outputs": [
        {
          "output_type": "stream",
          "text": [
            "[2.3, 4.445, 5.33, 1.054, 2.5]\n"
          ],
          "name": "stdout"
        }
      ]
    }
  ]
}