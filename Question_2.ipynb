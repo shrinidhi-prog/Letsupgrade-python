{
  "nbformat": 4,
  "nbformat_minor": 0,
  "metadata": {
    "colab": {
      "name": "Question 2.ipynb",
      "provenance": [],
      "collapsed_sections": []
    },
    "kernelspec": {
      "name": "python3",
      "display_name": "Python 3"
    }
  },
  "cells": [
    {
      "cell_type": "markdown",
      "metadata": {
        "id": "S366_j_pMari",
        "colab_type": "text"
      },
      "source": [
        "Dictionary and its default functions."
      ]
    },
    {
      "cell_type": "code",
      "metadata": {
        "id": "REM3ECB5KlP0",
        "colab_type": "code",
        "colab": {
          "base_uri": "https://localhost:8080/",
          "height": 118
        },
        "outputId": "778073e2-fb73-4138-b763-fcb32ee456c7"
      },
      "source": [
        "# Creating a Dictionary \n",
        "# with Integer Keys \n",
        "Dict = {1: 'Geeks', 2: 'For', 3: 'Geeks'} \n",
        "print(\"\\nDictionary with the use of Integer Keys: \") \n",
        "print(Dict) \n",
        "\n",
        "# Creating a Dictionary \n",
        "# with Mixed keys \n",
        "Dict = {'Name': 'Geeks', 1: [1, 2, 3, 4]} \n",
        "print(\"\\nDictionary with the use of Mixed Keys: \") \n",
        "print(Dict) \n"
      ],
      "execution_count": 18,
      "outputs": [
        {
          "output_type": "stream",
          "text": [
            "\n",
            "Dictionary with the use of Integer Keys: \n",
            "{1: 'Geeks', 2: 'For', 3: 'Geeks'}\n",
            "\n",
            "Dictionary with the use of Mixed Keys: \n",
            "{'Name': 'Geeks', 1: [1, 2, 3, 4]}\n"
          ],
          "name": "stdout"
        }
      ]
    },
    {
      "cell_type": "code",
      "metadata": {
        "id": "QKViE-FHM-FQ",
        "colab_type": "code",
        "colab": {
          "base_uri": "https://localhost:8080/",
          "height": 252
        },
        "outputId": "85a2e6d0-ae01-4842-a011-4b7a0b91cd43"
      },
      "source": [
        "# Creating an empty Dictionary \n",
        "Dict = {} \n",
        "print(\"Empty Dictionary: \") \n",
        "print(Dict) \n",
        "\n",
        "# Adding elements one at a time \n",
        "Dict[0] = 'Geeks'\n",
        "Dict[2] = 'For'\n",
        "Dict[3] = 1\n",
        "print(\"\\nDictionary after adding 3 elements: \") \n",
        "print(Dict) \n",
        "\n",
        "# Adding set of values \n",
        "# to a single Key \n",
        "Dict['Value_set'] = 2, 3, 4\n",
        "print(\"\\nDictionary after adding 3 elements: \") \n",
        "print(Dict) \n",
        "\n",
        "# Updating existing Key's Value \n",
        "Dict[2] = 'Welcome'\n",
        "print(\"\\nUpdated key value: \") \n",
        "print(Dict) \n",
        "\n",
        "# Adding Nested Key value to Dictionary \n",
        "Dict[5] = {'Nested' :{'1' : 'Life', '2' : 'Geeks'}} \n",
        "print(\"\\nAdding a Nested Key: \") \n",
        "print(Dict) \n"
      ],
      "execution_count": 19,
      "outputs": [
        {
          "output_type": "stream",
          "text": [
            "Empty Dictionary: \n",
            "{}\n",
            "\n",
            "Dictionary after adding 3 elements: \n",
            "{0: 'Geeks', 2: 'For', 3: 1}\n",
            "\n",
            "Dictionary after adding 3 elements: \n",
            "{0: 'Geeks', 2: 'For', 3: 1, 'Value_set': (2, 3, 4)}\n",
            "\n",
            "Updated key value: \n",
            "{0: 'Geeks', 2: 'Welcome', 3: 1, 'Value_set': (2, 3, 4)}\n",
            "\n",
            "Adding a Nested Key: \n",
            "{0: 'Geeks', 2: 'Welcome', 3: 1, 'Value_set': (2, 3, 4), 5: {'Nested': {'1': 'Life', '2': 'Geeks'}}}\n"
          ],
          "name": "stdout"
        }
      ]
    },
    {
      "cell_type": "code",
      "metadata": {
        "id": "l21t3atzNTNe",
        "colab_type": "code",
        "colab": {
          "base_uri": "https://localhost:8080/",
          "height": 84
        },
        "outputId": "c2564d40-b915-4466-8b40-d5ddc39a1a96"
      },
      "source": [
        "# Python program to demonstrate \n",
        "# accessing a element from a Dictionary \n",
        "\n",
        "# Creating a Dictionary \n",
        "Dict = {1: 'Geeks', 'name': 'For', 3: 'Geeks'} \n",
        "\n",
        "# accessing a element using key \n",
        "print(\"Accessing a element using key:\") \n",
        "print(Dict['name']) \n",
        "\n",
        "# accessing a element using key \n",
        "print(\"Accessing a element using key:\") \n",
        "print(Dict[1]) \n"
      ],
      "execution_count": 20,
      "outputs": [
        {
          "output_type": "stream",
          "text": [
            "Accessing a element using key:\n",
            "For\n",
            "Accessing a element using key:\n",
            "Geeks\n"
          ],
          "name": "stdout"
        }
      ]
    },
    {
      "cell_type": "code",
      "metadata": {
        "id": "igUKZQDvNd-P",
        "colab_type": "code",
        "colab": {
          "base_uri": "https://localhost:8080/",
          "height": 67
        },
        "outputId": "99fc4e86-521a-44c6-d9ca-cb50b308f105"
      },
      "source": [
        "# Creating a Dictionary \n",
        "Dict = {'Dict1': {1: 'Geeks'}, \n",
        "\t\t'Dict2': {'Name': 'For'}} \n",
        "\n",
        "# Accessing element using key \n",
        "print(Dict['Dict1']) \n",
        "print(Dict['Dict1'][1]) \n",
        "print(Dict['Dict2']['Name']) \n"
      ],
      "execution_count": 21,
      "outputs": [
        {
          "output_type": "stream",
          "text": [
            "{1: 'Geeks'}\n",
            "Geeks\n",
            "For\n"
          ],
          "name": "stdout"
        }
      ]
    },
    {
      "cell_type": "code",
      "metadata": {
        "id": "1LfR69UFOA90",
        "colab_type": "code",
        "colab": {
          "base_uri": "https://localhost:8080/",
          "height": 151
        },
        "outputId": "ce232846-00b4-4f4c-ea50-6519d843c4bf"
      },
      "source": [
        "# Initial Dictionary \n",
        "Dict = { 5 : 'Welcome', 6 : 'To', 7 : 'Geeks', \n",
        "\t\t'A' : {1 : 'Geeks', 2 : 'For', 3 : 'Geeks'}, \n",
        "\t\t'B' : {1 : 'Geeks', 2 : 'Life'}} \n",
        "print(\"Initial Dictionary: \") \n",
        "print(Dict) \n",
        "\n",
        "# Deleting a Key value \n",
        "del Dict[6] \n",
        "print(\"\\nDeleting a specific key: \") \n",
        "print(Dict) \n",
        "\n",
        "# Deleting a Key from \n",
        "# Nested Dictionary \n",
        "del Dict['A'][2] \n",
        "print(\"\\nDeleting a key from Nested Dictionary: \") \n",
        "print(Dict) \n"
      ],
      "execution_count": 22,
      "outputs": [
        {
          "output_type": "stream",
          "text": [
            "Initial Dictionary: \n",
            "{5: 'Welcome', 6: 'To', 7: 'Geeks', 'A': {1: 'Geeks', 2: 'For', 3: 'Geeks'}, 'B': {1: 'Geeks', 2: 'Life'}}\n",
            "\n",
            "Deleting a specific key: \n",
            "{5: 'Welcome', 7: 'Geeks', 'A': {1: 'Geeks', 2: 'For', 3: 'Geeks'}, 'B': {1: 'Geeks', 2: 'Life'}}\n",
            "\n",
            "Deleting a key from Nested Dictionary: \n",
            "{5: 'Welcome', 7: 'Geeks', 'A': {1: 'Geeks', 3: 'Geeks'}, 'B': {1: 'Geeks', 2: 'Life'}}\n"
          ],
          "name": "stdout"
        }
      ]
    },
    {
      "cell_type": "code",
      "metadata": {
        "id": "l-GcutHAOGLf",
        "colab_type": "code",
        "colab": {
          "base_uri": "https://localhost:8080/",
          "height": 67
        },
        "outputId": "908574ca-06d8-46d5-d01e-5d3e5683e186"
      },
      "source": [
        "\n",
        "# Creating a Dictionary \n",
        "Dict = {1: 'Geeks', 'name': 'For', 3: 'Geeks'} \n",
        "  \n",
        "# Deleting a key  \n",
        "# using pop() method \n",
        "pop_ele = Dict.pop(1) \n",
        "print('\\nDictionary after deletion: ' + str(Dict)) \n",
        "print('Value associated to poped key is: ' + str(pop_ele))"
      ],
      "execution_count": 24,
      "outputs": [
        {
          "output_type": "stream",
          "text": [
            "\n",
            "Dictionary after deletion: {'name': 'For', 3: 'Geeks'}\n",
            "Value associated to poped key is: Geeks\n"
          ],
          "name": "stdout"
        }
      ]
    },
    {
      "cell_type": "code",
      "metadata": {
        "id": "JT45xxCVOTGX",
        "colab_type": "code",
        "colab": {
          "base_uri": "https://localhost:8080/",
          "height": 67
        },
        "outputId": "7ef06432-af7c-44fe-ddc8-292fac54351a"
      },
      "source": [
        "# Creating Dictionary \n",
        "Dict = {1: 'Geeks', 'name': 'For', 3: 'Geeks'} \n",
        "  \n",
        "# Deleting an arbitrary key \n",
        "# using popitem() function \n",
        "pop_ele = Dict.popitem() \n",
        "print(\"\\nDictionary after deletion: \" + str(Dict)) \n",
        "print(\"The arbitrary pair returned is: \" + str(pop_ele))"
      ],
      "execution_count": 25,
      "outputs": [
        {
          "output_type": "stream",
          "text": [
            "\n",
            "Dictionary after deletion: {1: 'Geeks', 'name': 'For'}\n",
            "The arbitrary pair returned is: (3, 'Geeks')\n"
          ],
          "name": "stdout"
        }
      ]
    },
    {
      "cell_type": "code",
      "metadata": {
        "id": "4o1rtIQIOV8l",
        "colab_type": "code",
        "colab": {
          "base_uri": "https://localhost:8080/",
          "height": 67
        },
        "outputId": "3f25f02e-9a87-4c37-b959-d23bef676db5"
      },
      "source": [
        "# Creating a Dictionary \n",
        "Dict = {1: 'Geeks', 'name': 'For', 3: 'Geeks'} \n",
        "\n",
        "\n",
        "# Deleting entire Dictionary \n",
        "Dict.clear() \n",
        "print(\"\\nDeleting Entire Dictionary: \") \n",
        "print(Dict) \n"
      ],
      "execution_count": 26,
      "outputs": [
        {
          "output_type": "stream",
          "text": [
            "\n",
            "Deleting Entire Dictionary: \n",
            "{}\n"
          ],
          "name": "stdout"
        }
      ]
    }
  ]
}