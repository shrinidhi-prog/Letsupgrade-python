{
  "nbformat": 4,
  "nbformat_minor": 0,
  "metadata": {
    "colab": {
      "name": "Question 3.ipynb",
      "provenance": [],
      "collapsed_sections": []
    },
    "kernelspec": {
      "name": "python3",
      "display_name": "Python 3"
    }
  },
  "cells": [
    {
      "cell_type": "markdown",
      "metadata": {
        "id": "S366_j_pMari",
        "colab_type": "text"
      },
      "source": [
        "Sets and its default functions"
      ]
    },
    {
      "cell_type": "code",
      "metadata": {
        "id": "CS32SNGEUYN5",
        "colab_type": "code",
        "colab": {
          "base_uri": "https://localhost:8080/",
          "height": 336
        },
        "outputId": "f97fb0e3-b7e8-4ab9-cd94-4bf2e896258c"
      },
      "source": [
        "# Python program to demonstrate working# of \n",
        "# Set in Python \n",
        "\n",
        "# Creating two sets \n",
        "set1 = set() \n",
        "set2 = set() \n",
        "\n",
        "# Adding elements to set1 \n",
        "for i in range(1, 6): \n",
        "\tset1.add(i) \n",
        "\n",
        "# Adding elements to set2 \n",
        "for i in range(3, 8): \n",
        "\tset2.add(i) \n",
        "\n",
        "print(\"Set1 = \", set1) \n",
        "print(\"Set2 = \", set2) \n",
        "print(\"\\n\") \n",
        "\n",
        "# Union of set1 and set2 \n",
        "set3 = set1 | set2# set1.union(set2) \n",
        "print(\"Union of Set1 & Set2: Set3 = \", set3) \n",
        "\n",
        "# Intersection of set1 and set2 \n",
        "set4 = set1 & set2# set1.intersection(set2) \n",
        "print(\"Intersection of Set1 & Set2: Set4 = \", set4) \n",
        "print(\"\\n\") \n",
        "\n",
        "# Checking relation between set3 and set4 \n",
        "if set3 > set4: # set3.issuperset(set4) \n",
        "\tprint(\"Set3 is superset of Set4\") \n",
        "elif set3 < set4: # set3.issubset(set4) \n",
        "\tprint(\"Set3 is subset of Set4\") \n",
        "else : # set3 == set4 \n",
        "\tprint(\"Set3 is same as Set4\") \n",
        "\n",
        "# displaying relation between set4 and set3 \n",
        "if set4 < set3: # set4.issubset(set3) \n",
        "\tprint(\"Set4 is subset of Set3\") \n",
        "\tprint(\"\\n\") \n",
        "\n",
        "# difference between set3 and set4 \n",
        "set5 = set3 - set4 \n",
        "print(\"Elements in Set3 and not in Set4: Set5 = \", set5) \n",
        "print(\"\\n\") \n",
        "\n",
        "# checkv if set4 and set5 are disjoint sets \n",
        "if set4.isdisjoint(set5): \n",
        "\tprint(\"Set4 and Set5 have nothing in common\\n\") \n",
        "\n",
        "# Removing all the values of set5 \n",
        "set5.clear() \n",
        "\n",
        "print(\"After applying clear on sets Set5: \") \n",
        "print(\"Set5 = \", set5) \n"
      ],
      "execution_count": 33,
      "outputs": [
        {
          "output_type": "stream",
          "text": [
            "Set1 =  {1, 2, 3, 4, 5}\n",
            "Set2 =  {3, 4, 5, 6, 7}\n",
            "\n",
            "\n",
            "Union of Set1 & Set2: Set3 =  {1, 2, 3, 4, 5, 6, 7}\n",
            "Intersection of Set1 & Set2: Set4 =  {3, 4, 5}\n",
            "\n",
            "\n",
            "Set3 is superset of Set4\n",
            "Set4 is subset of Set3\n",
            "\n",
            "\n",
            "Elements in Set3 and not in Set4: Set5 =  {1, 2, 6, 7}\n",
            "\n",
            "\n",
            "Set4 and Set5 have nothing in common\n",
            "\n",
            "After applying clear on sets Set5: \n",
            "Set5 =  set()\n"
          ],
          "name": "stdout"
        }
      ]
    }
  ]
}